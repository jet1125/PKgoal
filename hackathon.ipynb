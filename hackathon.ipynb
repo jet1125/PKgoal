{
 "cells": [
  {
   "cell_type": "code",
   "execution_count": 1,
   "metadata": {},
   "outputs": [],
   "source": [
    "import numpy as np\n",
    "from hackathon_qaoa import (\n",
    "    standard_qaoa,\n",
    "    ibm_simulator_qaoa,\n",
    "    ibm_jakarta_qaoa,\n",
    "    ibm_ku_qaoa,\n",
    ")\n"
   ]
  },
  {
   "cell_type": "code",
   "execution_count": 7,
   "metadata": {},
   "outputs": [],
   "source": [
    "#matching, 4 match 4\n",
    "p=10\n",
    "\n",
    "weight = np.array([10,0,0,0,0,10,0,0,0,0,10,0,0,0,0,10])\n",
    "\n",
    "# 0<=w<=1\n",
    "\n",
    "mu = np.array([-2*p]*16) - weight\n",
    "\n",
    "sigma = np.array(\n",
    "    [\n",
    "        [0, p, p, p, p, 0, 0, 0, p, 0, 0, 0, p, 0, 0, 0],\n",
    "        [p, 0, p, p, 0, p, 0, 0, 0, p, 0, 0, 0, p, 0, 0],\n",
    "        [p, p, 0, p, 0, 0, p, 0, 0, 0, p, 0, 0, 0, p, 0],\n",
    "        [p, p, p, 0, 0, 0, 0, p, 0, 0, 0, p, 0, 0, 0, p],\n",
    "        [p, 0, 0, 0, 0, p, p, p, p, 0, 0, 0, p, 0, 0, 0],\n",
    "        [0, p, 0, 0, p, 0, p, p, 0, p, 0, 0, 0, p, 0, 0],\n",
    "        [0, 0, p, 0, p, p, 0, p, 0, 0, p, 0, 0, 0, p, 0],\n",
    "        [0, 0, 0, p, p, p, p, 0, 0, 0, 0, p, 0, 0, 0, p],\n",
    "        [p, 0, 0, 0, p, 0, 0, 0, 0, p, p, p, p, 0, 0, 0],\n",
    "        [0, p, 0, 0, 0, p, 0, 0, p, 0, p, p, 0, p, 0, 0],\n",
    "        [0, 0, p, 0, 0, 0, p, 0, p, p, 0, p, 0, 0, p, 0],\n",
    "        [0, 0, 0, p, 0, 0, 0, p, p, p, p, 0, 0, 0, 0, p],\n",
    "        [p, 0, 0, 0, p, 0, 0, 0, p, 0, 0, 0, 0, p, p, p],\n",
    "        [0, p, 0, 0, 0, p, 0, 0, 0, p, 0, 0, p, 0, p, p],\n",
    "        [0, 0, p, 0, 0, 0, p, 0, 0, 0, p, 0, p, p, 0, p],\n",
    "        [0, 0, 0, p, 0, 0, 0, p, 0, 0, 0, p, p, p, p, 0],\n",
    "    ]\n",
    ")\n"
   ]
  },
  {
   "cell_type": "code",
   "execution_count": 2,
   "metadata": {},
   "outputs": [],
   "source": [
    "# matching,33 \n",
    "p = 10\n",
    "\n",
    "weight = np.array([8, 1, 5, 5, 2, 7, 1, 6, 4])\n",
    "\n",
    "# 0<=w, w~10^0\n",
    "\n",
    "mu = np.array([-p] * 9) - weight\n",
    "\n",
    "sigma = np.array(\n",
    "    [\n",
    "        [0, p, p, p, 0, 0, p, 0, 0],\n",
    "        [p, 0, p, 0, p, 0, 0, p, 0],\n",
    "        [p, p, 0, 0, 0, p, 0, 0, p],\n",
    "        [p, 0, 0, 0, p, p, p, 0, 0],\n",
    "        [0, p, 0, p, 0, p, 0, p, 0],\n",
    "        [0, 0, p, p, p, 0, 0, 0, p],\n",
    "        [p, 0, 0, p, 0, 0, 0, p, p],\n",
    "        [0, p, 0, 0, p, 0, p, 0, p],\n",
    "        [0, 0, p, 0, 0, p, p, p, 0],\n",
    "    ]\n",
    ")\n"
   ]
  },
  {
   "cell_type": "code",
   "execution_count": null,
   "metadata": {},
   "outputs": [],
   "source": [
    "# 0 0 1 0 0 1 0 0 1 0 0 0 0 1 0 1 "
   ]
  },
  {
   "cell_type": "code",
   "execution_count": 3,
   "metadata": {},
   "outputs": [
    {
     "data": {
      "text/plain": [
       "optimal function value: -51.0\n",
       "optimal value: [1. 0. 0. 0. 0. 1. 0. 1. 0.]\n",
       "status: SUCCESS"
      ]
     },
     "execution_count": 3,
     "metadata": {},
     "output_type": "execute_result"
    }
   ],
   "source": [
    "standard_qaoa(mu, sigma)"
   ]
  },
  {
   "cell_type": "code",
   "execution_count": 4,
   "metadata": {},
   "outputs": [],
   "source": [
    "result_ku_cluster = ibm_ku_qaoa(mu, sigma)\n",
    "result = result_ku_cluster"
   ]
  },
  {
   "cell_type": "code",
   "execution_count": null,
   "metadata": {},
   "outputs": [],
   "source": [
    "fval_list = [s.fval for s in result.samples]\n",
    "import matplotlib.pyplot as plt\n",
    "import mplhep\n",
    "plt.style.use(mplhep.style.LHCb2)  # CMS or ATLAS/LHCb\n",
    "\n",
    "plt.plot([], [], ' ', label='Matching QAOA Simulator')\n",
    "\n",
    "plt.plot(fval_list, 'o-')\n",
    "plt.xlabel('$\\leftarrow$ Optimized')\n",
    "plt.ylabel('f Value')\n",
    "plt.legend()\n",
    "plt.savefig(\"MatchQAOASimul.pdf\")\n",
    "plt.show()"
   ]
  }
 ],
 "metadata": {
  "kernelspec": {
   "display_name": "Python 3.7.13 ('qiskit-1OsDPG3M')",
   "language": "python",
   "name": "python3"
  },
  "language_info": {
   "codemirror_mode": {
    "name": "ipython",
    "version": 3
   },
   "file_extension": ".py",
   "mimetype": "text/x-python",
   "name": "python",
   "nbconvert_exporter": "python",
   "pygments_lexer": "ipython3",
   "version": "3.7.13"
  },
  "orig_nbformat": 4,
  "vscode": {
   "interpreter": {
    "hash": "bb371567e750e5bedfa2f89c67fcb925dcc309db4a1686b2782b99f6cd22ae33"
   }
  }
 },
 "nbformat": 4,
 "nbformat_minor": 2
}
