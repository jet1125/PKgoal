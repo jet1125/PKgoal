{
 "cells": [
  {
   "cell_type": "code",
   "execution_count": 3,
   "metadata": {},
   "outputs": [
    {
     "data": {
      "image/png": "[encoded data removed]",
      "text/plain": [
       "<Figure size 607.568x144.48 with 1 Axes>"
      ]
     },
     "execution_count": 3,
     "metadata": {},
     "output_type": "execute_result"
    }
   ],
   "source": [
    "from qiskit import QuantumCircuit\n",
    "from qiskit.algorithms import AmplificationProblem\n",
    "\n",
    "# the state we desire to find is '11'\n",
    "good_state = ['11']\n",
    "\n",
    "# specify the oracle that marks the state '11' as a good solution\n",
    "oracle = QuantumCircuit(2)\n",
    "oracle.cz(0, 1)\n",
    "\n",
    "# define Grover's algorithm\n",
    "problem = AmplificationProblem(oracle, is_good_state=good_state)\n",
    "\n",
    "# now we can have a look at the Grover operator that is used in running the algorithm\n",
    "# (Algorithm circuits are wrapped in a gate to be appear in composition as a block\n",
    "# so we have to decompose() the op to see it expanded into its component gates.)\n",
    "problem.grover_operator.decompose().draw(output='mpl')"
   ]
  },
  {
   "cell_type": "code",
   "execution_count": 4,
   "metadata": {},
   "outputs": [
    {
     "name": "stdout",
     "output_type": "stream",
     "text": [
      "Result type: <class 'qiskit.algorithms.amplitude_amplifiers.grover.GroverResult'>\n",
      "\n",
      "Success!\n",
      "Top measurement: 11\n"
     ]
    }
   ],
   "source": [
    "from qiskit import Aer\n",
    "from qiskit.utils import QuantumInstance\n",
    "from qiskit.algorithms import Grover\n",
    "\n",
    "aer_simulator = Aer.get_backend('aer_simulator')\n",
    "grover = Grover(quantum_instance=aer_simulator)\n",
    "result = grover.amplify(problem)\n",
    "print('Result type:', type(result))\n",
    "print()\n",
    "print('Success!' if result.oracle_evaluation else 'Failure!')\n",
    "print('Top measurement:', result.top_measurement)"
   ]
  },
  {
   "cell_type": "code",
   "execution_count": 3,
   "metadata": {},
   "outputs": [
    {
     "data": {
      "image/png": "[encoded data removed]",
      "text/plain": [
       "<Figure size 432x288 with 1 Axes>"
      ]
     },
     "metadata": {},
     "output_type": "display_data"
    }
   ],
   "source": [
    "import networkx as nx\n",
    "\n",
    "G = nx.Graph()\n",
    "G.add_nodes_from([0, 1, 2, 3])\n",
    "G.add_edges_from([(0, 1), (1, 2), (2, 3), (3, 0)])\n",
    "nx.draw(G, with_labels=True, alpha=0.8, node_size=500)"
   ]
  },
  {
   "cell_type": "code",
   "execution_count": 6,
   "metadata": {},
   "outputs": [
    {
     "name": "stderr",
     "output_type": "stream",
     "text": [
      "/tmp/ipykernel_2738/3998253988.py:8: FutureWarning: adjacency_matrix will return a scipy.sparse array instead of a matrix in Networkx 3.0.\n",
      "  adjacency = nx.adjacency_matrix(G).todense()\n"
     ]
    },
    {
     "data": {
      "text/html": [
       "<pre style=\"word-wrap: normal;white-space: pre;background: #fff0;line-height: 1.1;font-family: &quot;Courier New&quot;,Courier,monospace\">     ┌───────────────┐\n",
       "q_0: ┤ Rx(2*$\\beta$) ├\n",
       "     ├───────────────┤\n",
       "q_1: ┤ Rx(2*$\\beta$) ├\n",
       "     ├───────────────┤\n",
       "q_2: ┤ Rx(2*$\\beta$) ├\n",
       "     ├───────────────┤\n",
       "q_3: ┤ Rx(2*$\\beta$) ├\n",
       "     └───────────────┘</pre>"
      ],
      "text/plain": [
       "     ┌───────────────┐\n",
       "q_0: ┤ Rx(2*$\\beta$) ├\n",
       "     ├───────────────┤\n",
       "q_1: ┤ Rx(2*$\\beta$) ├\n",
       "     ├───────────────┤\n",
       "q_2: ┤ Rx(2*$\\beta$) ├\n",
       "     ├───────────────┤\n",
       "q_3: ┤ Rx(2*$\\beta$) ├\n",
       "     └───────────────┘"
      ]
     },
     "execution_count": 6,
     "metadata": {},
     "output_type": "execute_result"
    }
   ],
   "source": [
    "from qiskit import QuantumCircuit, ClassicalRegister, QuantumRegister\n",
    "from qiskit import Aer, execute\n",
    "from qiskit.circuit import Parameter\n",
    "\n",
    "# Adjacency is essentially a matrix which tells you which nodes are\n",
    "# connected. This matrix is given as a sparse matrix, so we need to\n",
    "# convert it to a dense matrix\n",
    "adjacency = nx.adjacency_matrix(G).todense()\n",
    "\n",
    "nqubits = 4\n",
    "\n",
    "beta = Parameter(\"$\\\\beta$\")\n",
    "qc_mix = QuantumCircuit(nqubits)\n",
    "for i in range(0, nqubits):\n",
    "    qc_mix.rx(2 * beta, i)\n",
    "\n",
    "qc_mix.draw()"
   ]
  },
  {
   "cell_type": "code",
   "execution_count": 7,
   "metadata": {},
   "outputs": [
    {
     "data": {
      "text/html": [
       "<pre style=\"word-wrap: normal;white-space: pre;background: #fff0;line-height: 1.1;font-family: &quot;Courier New&quot;,Courier,monospace\">                                  ░                              ░      »\n",
       "q_0: ──■──────────────────────■───░───■──────────────────────■───░──────»\n",
       "     ┌─┴─┐┌────────────────┐┌─┴─┐ ░   │                      │   ░      »\n",
       "q_1: ┤ X ├┤ Rz(2*$\\gamma$) ├┤ X ├─░───┼──────────────────────┼───░───■──»\n",
       "     └───┘└────────────────┘└───┘ ░   │                      │   ░ ┌─┴─┐»\n",
       "q_2: ─────────────────────────────░───┼──────────────────────┼───░─┤ X ├»\n",
       "                                  ░ ┌─┴─┐┌────────────────┐┌─┴─┐ ░ └───┘»\n",
       "q_3: ─────────────────────────────░─┤ X ├┤ Rz(2*$\\gamma$) ├┤ X ├─░──────»\n",
       "                                  ░ └───┘└────────────────┘└───┘ ░      »\n",
       "«                             ░                              ░ \n",
       "«q_0: ────────────────────────░──────────────────────────────░─\n",
       "«                             ░                              ░ \n",
       "«q_1: ────────────────────■───░──────────────────────────────░─\n",
       "«     ┌────────────────┐┌─┴─┐ ░                              ░ \n",
       "«q_2: ┤ Rz(2*$\\gamma$) ├┤ X ├─░───■──────────────────────■───░─\n",
       "«     └────────────────┘└───┘ ░ ┌─┴─┐┌────────────────┐┌─┴─┐ ░ \n",
       "«q_3: ────────────────────────░─┤ X ├┤ Rz(2*$\\gamma$) ├┤ X ├─░─\n",
       "«                             ░ └───┘└────────────────┘└───┘ ░ </pre>"
      ],
      "text/plain": [
       "                                  ░                              ░      »\n",
       "q_0: ──■──────────────────────■───░───■──────────────────────■───░──────»\n",
       "     ┌─┴─┐┌────────────────┐┌─┴─┐ ░   │                      │   ░      »\n",
       "q_1: ┤ X ├┤ Rz(2*$\\gamma$) ├┤ X ├─░───┼──────────────────────┼───░───■──»\n",
       "     └───┘└────────────────┘└───┘ ░   │                      │   ░ ┌─┴─┐»\n",
       "q_2: ─────────────────────────────░───┼──────────────────────┼───░─┤ X ├»\n",
       "                                  ░ ┌─┴─┐┌────────────────┐┌─┴─┐ ░ └───┘»\n",
       "q_3: ─────────────────────────────░─┤ X ├┤ Rz(2*$\\gamma$) ├┤ X ├─░──────»\n",
       "                                  ░ └───┘└────────────────┘└───┘ ░      »\n",
       "«                             ░                              ░ \n",
       "«q_0: ────────────────────────░──────────────────────────────░─\n",
       "«                             ░                              ░ \n",
       "«q_1: ────────────────────■───░──────────────────────────────░─\n",
       "«     ┌────────────────┐┌─┴─┐ ░                              ░ \n",
       "«q_2: ┤ Rz(2*$\\gamma$) ├┤ X ├─░───■──────────────────────■───░─\n",
       "«     └────────────────┘└───┘ ░ ┌─┴─┐┌────────────────┐┌─┴─┐ ░ \n",
       "«q_3: ────────────────────────░─┤ X ├┤ Rz(2*$\\gamma$) ├┤ X ├─░─\n",
       "«                             ░ └───┘└────────────────┘└───┘ ░ "
      ]
     },
     "execution_count": 7,
     "metadata": {},
     "output_type": "execute_result"
    }
   ],
   "source": [
    "gamma = Parameter(\"$\\\\gamma$\")\n",
    "qc_p = QuantumCircuit(nqubits)\n",
    "for pair in list(G.edges()):  # pairs of nodes\n",
    "    qc_p.rzz(2 * gamma, pair[0], pair[1])\n",
    "    qc_p.barrier()\n",
    "    \n",
    "qc_p.decompose().draw()"
   ]
  },
  {
   "cell_type": "code",
   "execution_count": 9,
   "metadata": {},
   "outputs": [
    {
     "data": {
      "text/html": [
       "<pre style=\"word-wrap: normal;white-space: pre;background: #fff0;line-height: 1.1;font-family: &quot;Courier New&quot;,Courier,monospace\">     ┌───┐\n",
       "q_0: ┤ H ├\n",
       "     ├───┤\n",
       "q_1: ┤ H ├\n",
       "     ├───┤\n",
       "q_2: ┤ H ├\n",
       "     ├───┤\n",
       "q_3: ┤ H ├\n",
       "     └───┘</pre>"
      ],
      "text/plain": [
       "     ┌───┐\n",
       "q_0: ┤ H ├\n",
       "     ├───┤\n",
       "q_1: ┤ H ├\n",
       "     ├───┤\n",
       "q_2: ┤ H ├\n",
       "     ├───┤\n",
       "q_3: ┤ H ├\n",
       "     └───┘"
      ]
     },
     "execution_count": 9,
     "metadata": {},
     "output_type": "execute_result"
    }
   ],
   "source": [
    "qc_0 = QuantumCircuit(nqubits)\n",
    "for i in range(0, nqubits):\n",
    "    qc_0.h(i)\n",
    "    \n",
    "qc_0.draw()"
   ]
  },
  {
   "cell_type": "code",
   "execution_count": 14,
   "metadata": {},
   "outputs": [
    {
     "data": {
      "text/html": [
       "<pre style=\"word-wrap: normal;white-space: pre;background: #fff0;line-height: 1.1;font-family: &quot;Courier New&quot;,Courier,monospace\">     ┌─────────┐                             ░                              ░ »\n",
       "q_0: ┤ U2(0,π) ├──■──────────────────────■───░───■──────────────────────■───░─»\n",
       "     ├─────────┤┌─┴─┐┌────────────────┐┌─┴─┐ ░   │                      │   ░ »\n",
       "q_1: ┤ U2(0,π) ├┤ X ├┤ Rz(2*$\\gamma$) ├┤ X ├─░───┼──────────────────────┼───░─»\n",
       "     ├─────────┤└───┘└────────────────┘└───┘ ░   │                      │   ░ »\n",
       "q_2: ┤ U2(0,π) ├─────────────────────────────░───┼──────────────────────┼───░─»\n",
       "     ├─────────┤                             ░ ┌─┴─┐┌────────────────┐┌─┴─┐ ░ »\n",
       "q_3: ┤ U2(0,π) ├─────────────────────────────░─┤ X ├┤ Rz(2*$\\gamma$) ├┤ X ├─░─»\n",
       "     └─────────┘                             ░ └───┘└────────────────┘└───┘ ░ »\n",
       "«                                  ░                              ░ »\n",
       "«q_0: ─────────────────────────────░──────────────────────────────░─»\n",
       "«                                  ░                              ░ »\n",
       "«q_1: ──■──────────────────────■───░──────────────────────────────░─»\n",
       "«     ┌─┴─┐┌────────────────┐┌─┴─┐ ░                              ░ »\n",
       "«q_2: ┤ X ├┤ Rz(2*$\\gamma$) ├┤ X ├─░───■──────────────────────■───░─»\n",
       "«     └───┘└────────────────┘└───┘ ░ ┌─┴─┐┌────────────────┐┌─┴─┐ ░ »\n",
       "«q_3: ─────────────────────────────░─┤ X ├┤ Rz(2*$\\gamma$) ├┤ X ├─░─»\n",
       "«                                  ░ └───┘└────────────────┘└───┘ ░ »\n",
       "«     ┌────────────────┐\n",
       "«q_0: ┤ R(2*$\\beta$,0) ├\n",
       "«     ├────────────────┤\n",
       "«q_1: ┤ R(2*$\\beta$,0) ├\n",
       "«     ├────────────────┤\n",
       "«q_2: ┤ R(2*$\\beta$,0) ├\n",
       "«     ├────────────────┤\n",
       "«q_3: ┤ R(2*$\\beta$,0) ├\n",
       "«     └────────────────┘</pre>"
      ],
      "text/plain": [
       "     ┌─────────┐                             ░                              ░ »\n",
       "q_0: ┤ U2(0,π) ├──■──────────────────────■───░───■──────────────────────■───░─»\n",
       "     ├─────────┤┌─┴─┐┌────────────────┐┌─┴─┐ ░   │                      │   ░ »\n",
       "q_1: ┤ U2(0,π) ├┤ X ├┤ Rz(2*$\\gamma$) ├┤ X ├─░───┼──────────────────────┼───░─»\n",
       "     ├─────────┤└───┘└────────────────┘└───┘ ░   │                      │   ░ »\n",
       "q_2: ┤ U2(0,π) ├─────────────────────────────░───┼──────────────────────┼───░─»\n",
       "     ├─────────┤                             ░ ┌─┴─┐┌────────────────┐┌─┴─┐ ░ »\n",
       "q_3: ┤ U2(0,π) ├─────────────────────────────░─┤ X ├┤ Rz(2*$\\gamma$) ├┤ X ├─░─»\n",
       "     └─────────┘                             ░ └───┘└────────────────┘└───┘ ░ »\n",
       "«                                  ░                              ░ »\n",
       "«q_0: ─────────────────────────────░──────────────────────────────░─»\n",
       "«                                  ░                              ░ »\n",
       "«q_1: ──■──────────────────────■───░──────────────────────────────░─»\n",
       "«     ┌─┴─┐┌────────────────┐┌─┴─┐ ░                              ░ »\n",
       "«q_2: ┤ X ├┤ Rz(2*$\\gamma$) ├┤ X ├─░───■──────────────────────■───░─»\n",
       "«     └───┘└────────────────┘└───┘ ░ ┌─┴─┐┌────────────────┐┌─┴─┐ ░ »\n",
       "«q_3: ─────────────────────────────░─┤ X ├┤ Rz(2*$\\gamma$) ├┤ X ├─░─»\n",
       "«                                  ░ └───┘└────────────────┘└───┘ ░ »\n",
       "«     ┌────────────────┐\n",
       "«q_0: ┤ R(2*$\\beta$,0) ├\n",
       "«     ├────────────────┤\n",
       "«q_1: ┤ R(2*$\\beta$,0) ├\n",
       "«     ├────────────────┤\n",
       "«q_2: ┤ R(2*$\\beta$,0) ├\n",
       "«     ├────────────────┤\n",
       "«q_3: ┤ R(2*$\\beta$,0) ├\n",
       "«     └────────────────┘"
      ]
     },
     "execution_count": 14,
     "metadata": {},
     "output_type": "execute_result"
    }
   ],
   "source": [
    "qc_qaoa = QuantumCircuit(nqubits)\n",
    "\n",
    "qc_qaoa.append(qc_0, [i for i in range(0, nqubits)])\n",
    "qc_qaoa.append(qc_p, [i for i in range(0, nqubits)])\n",
    "qc_qaoa.append(qc_mix, [i for i in range(0, nqubits)])\n",
    "\n",
    "qc_qaoa.decompose().decompose().draw()"
   ]
  },
  {
   "cell_type": "code",
   "execution_count": 11,
   "metadata": {},
   "outputs": [],
   "source": [
    "def maxcut_obj(x, G):\n",
    "    \"\"\"\n",
    "    Given a bitstring as a solution, this function returns\n",
    "    the number of edges shared between the two partitions\n",
    "    of the graph.\n",
    "    \n",
    "    Args:\n",
    "        x: str\n",
    "           solution bitstring\n",
    "           \n",
    "        G: networkx graph\n",
    "        \n",
    "    Returns:\n",
    "        obj: float\n",
    "             Objective\n",
    "    \"\"\"\n",
    "    obj = 0\n",
    "    for i, j in G.edges():\n",
    "        if x[i] != x[j]:\n",
    "            obj -= 1\n",
    "            \n",
    "    return obj\n",
    "\n",
    "\n",
    "def compute_expectation(counts, G):\n",
    "    \n",
    "    \"\"\"\n",
    "    Computes expectation value based on measurement results\n",
    "    \n",
    "    Args:\n",
    "        counts: dict\n",
    "                key as bitstring, val as count\n",
    "           \n",
    "        G: networkx graph\n",
    "        \n",
    "    Returns:\n",
    "        avg: float\n",
    "             expectation value\n",
    "    \"\"\"\n",
    "    \n",
    "    avg = 0\n",
    "    sum_count = 0\n",
    "    for bitstring, count in counts.items():\n",
    "        \n",
    "        obj = maxcut_obj(bitstring, G)\n",
    "        avg += obj * count\n",
    "        sum_count += count\n",
    "        \n",
    "    return avg/sum_count\n",
    "\n",
    "\n",
    "# We will also bring the different circuit components that\n",
    "# build the qaoa circuit under a single function\n",
    "def create_qaoa_circ(G, theta):\n",
    "    \n",
    "    \"\"\"\n",
    "    Creates a parametrized qaoa circuit\n",
    "    \n",
    "    Args:  \n",
    "        G: networkx graph\n",
    "        theta: list\n",
    "               unitary parameters\n",
    "                     \n",
    "    Returns:\n",
    "        qc: qiskit circuit\n",
    "    \"\"\"\n",
    "    \n",
    "    nqubits = len(G.nodes())\n",
    "    p = len(theta)//2  # number of alternating unitaries\n",
    "    qc = QuantumCircuit(nqubits)\n",
    "    \n",
    "    beta = theta[:p]\n",
    "    gamma = theta[p:]\n",
    "    \n",
    "    # initial_state\n",
    "    for i in range(0, nqubits):\n",
    "        qc.h(i)\n",
    "    \n",
    "    for irep in range(0, p):\n",
    "        \n",
    "        # problem unitary\n",
    "        for pair in list(G.edges()):\n",
    "            qc.rzz(2 * gamma[irep], pair[0], pair[1])\n",
    "\n",
    "        # mixer unitary\n",
    "        for i in range(0, nqubits):\n",
    "            qc.rx(2 * beta[irep], i)\n",
    "            \n",
    "    qc.measure_all()\n",
    "        \n",
    "    return qc\n",
    "\n",
    "# Finally we write a function that executes the circuit on the chosen backend\n",
    "def get_expectation(G, p, shots=512):\n",
    "    \n",
    "    \"\"\"\n",
    "    Runs parametrized circuit\n",
    "    \n",
    "    Args:\n",
    "        G: networkx graph\n",
    "        p: int,\n",
    "           Number of repetitions of unitaries\n",
    "    \"\"\"\n",
    "    \n",
    "    backend = Aer.get_backend('qasm_simulator')\n",
    "    backend.shots = shots\n",
    "    \n",
    "    def execute_circ(theta):\n",
    "        \n",
    "        qc = create_qaoa_circ(G, theta)\n",
    "        counts = backend.run(qc, seed_simulator=10, \n",
    "                             nshots=512).result().get_counts()\n",
    "        \n",
    "        return compute_expectation(counts, G)\n",
    "    \n",
    "    return execute_circ"
   ]
  },
  {
   "cell_type": "code",
   "execution_count": 12,
   "metadata": {},
   "outputs": [
    {
     "data": {
      "text/plain": [
       "     fun: -2.994140625\n",
       "   maxcv: 0.0\n",
       " message: 'Optimization terminated successfully.'\n",
       "    nfev: 30\n",
       "  status: 1\n",
       " success: True\n",
       "       x: array([1.9793337 , 1.16663483])"
      ]
     },
     "execution_count": 12,
     "metadata": {},
     "output_type": "execute_result"
    }
   ],
   "source": [
    "from scipy.optimize import minimize\n",
    "\n",
    "\n",
    "expectation = get_expectation(G, p=1)\n",
    "\n",
    "res = minimize(expectation, \n",
    "                      [1.0, 1.0], \n",
    "                      method='COBYLA')\n",
    "res"
   ]
  },
  {
   "cell_type": "code",
   "execution_count": 13,
   "metadata": {},
   "outputs": [
    {
     "data": {
      "image/png": "[encoded data removed]",
      "text/plain": [
       "<Figure size 504x360 with 1 Axes>"
      ]
     },
     "execution_count": 13,
     "metadata": {},
     "output_type": "execute_result"
    }
   ],
   "source": [
    "from qiskit.visualization import plot_histogram\n",
    "\n",
    "backend = Aer.get_backend('aer_simulator')\n",
    "backend.shots = 512\n",
    "\n",
    "qc_res = create_qaoa_circ(G, res.x)\n",
    "\n",
    "counts = backend.run(qc_res, seed_simulator=10).result().get_counts()\n",
    "\n",
    "plot_histogram(counts)"
   ]
  },
  {
   "cell_type": "code",
   "execution_count": null,
   "metadata": {},
   "outputs": [],
   "source": []
  }
 ],
 "metadata": {
  "kernelspec": {
   "display_name": "Python 3.10.4 ('qiskit-1OsDPG3M')",
   "language": "python",
   "name": "python3"
  },
  "language_info": {
   "codemirror_mode": {
    "name": "ipython",
    "version": 3
   },
   "file_extension": ".py",
   "mimetype": "text/x-python",
   "name": "python",
   "nbconvert_exporter": "python",
   "pygments_lexer": "ipython3",
   "version": "3.7.13"
  },
  "orig_nbformat": 4,
  "vscode": {
   "interpreter": {
    "hash": "bb371567e750e5bedfa2f89c67fcb925dcc309db4a1686b2782b99f6cd22ae33"
   }
  }
 },
 "nbformat": 4,
 "nbformat_minor": 2
}
